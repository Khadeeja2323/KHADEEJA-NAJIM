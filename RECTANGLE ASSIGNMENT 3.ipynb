{
 "cells": [
  {
   "cell_type": "code",
   "execution_count": 4,
   "id": "8be1d56c",
   "metadata": {},
   "outputs": [
    {
     "name": "stdout",
     "output_type": "stream",
     "text": [
      "The length of the rectangle is:  8\n",
      "The width of the rectangle is:  4\n",
      "The perimeter of the rectangle =  24\n",
      "The area of the rectangle=  32\n",
      "----------------\n",
      "The volume of myParellelepipede =  96\n"
     ]
    }
   ],
   "source": [
    "class Rectangle:\n",
    "    def __init__(self,length,width):\n",
    "        self.length=length\n",
    "        self.width=width\n",
    "    def perimeter(self):\n",
    "        return 2*(self.length+self.width)\n",
    "    def area(self):\n",
    "        return self.length*self.width\n",
    "    def display(self):\n",
    "        print('The length of the rectangle is: ',self.length)\n",
    "        print('The width of the rectangle is: ',self.width)\n",
    "        print('The perimeter of the rectangle = ',self.perimeter())\n",
    "        print('The area of the rectangle= ',self.area())\n",
    "class Parellelepiped(Rectangle):\n",
    "    def __init__(self,length,width,height):\n",
    "        Rectangle.__init__(self,length,width)\n",
    "        self.height=height\n",
    "    def volume(self):\n",
    "        return self.length*self.width*self.height\n",
    "\n",
    "myRectangle = Rectangle(8,4)\n",
    "myRectangle.display()\n",
    "print('----------------')\n",
    "myParellelepiped  =Parellelepiped(8,4,3)\n",
    "print('The volume of myParellelepipede = ',myParellelepiped.volume())       "
   ]
  }
 ],
 "metadata": {
  "kernelspec": {
   "display_name": "Python 3 (ipykernel)",
   "language": "python",
   "name": "python3"
  },
  "language_info": {
   "codemirror_mode": {
    "name": "ipython",
    "version": 3
   },
   "file_extension": ".py",
   "mimetype": "text/x-python",
   "name": "python",
   "nbconvert_exporter": "python",
   "pygments_lexer": "ipython3",
   "version": "3.9.13"
  }
 },
 "nbformat": 4,
 "nbformat_minor": 5
}
